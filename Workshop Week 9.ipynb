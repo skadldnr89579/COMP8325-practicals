{
 "cells": [
  {
   "cell_type": "code",
   "execution_count": 1,
   "metadata": {},
   "outputs": [],
   "source": [
    "import csv\n",
    "\n",
    "# ASM keywords\n",
    "\n",
    "keywords = ['not','nop','shl','jae','neg','jpe','rcr','sal','rol','jna'\n",
    "         ,'push','jc','jge','jnp','cwde','jnbe','js','inc','imul'\n",
    "         ,'jecxz','clc','cld','jno','idiv','pusha','ja','in','jg'\n",
    "         ,'cbw','int','xchg','xor','add','ror','jns','jnge','pop'\n",
    "         ,'jo','jne','sti','adc','lea','jpo','andor','jnae','cli'\n",
    "         ,'pushf','sbb','sub','jle','mov','jmp','jng','sar','div'\n",
    "         ,'jz','std','mul','jb','ret','jnb','jnl','cmc','rcl','dec'\n",
    "         ,'cwd','out','jnle','jp','shr','jcxz','jnc','jbe','stc','jl'\n",
    "         ,'popa','jnz','je','call','cmp','popf']\n"
   ]
  },
  {
   "cell_type": "code",
   "execution_count": 2,
   "metadata": {},
   "outputs": [
    {
     "data": {
      "text/plain": [
       "['01.asm',\n",
       " '02.asm',\n",
       " '04.asm',\n",
       " '05.asm',\n",
       " '06.asm',\n",
       " '07.asm',\n",
       " '08.asm',\n",
       " '09.asm']"
      ]
     },
     "execution_count": 2,
     "metadata": {},
     "output_type": "execute_result"
    }
   ],
   "source": [
    "# Data with ASM\n",
    "file_dir = './Samples/'\n",
    "file_name = ['01.asm','02.asm','04.asm','05.asm'\n",
    "             ,'06.asm','07.asm','08.asm','09.asm']\n",
    "\n",
    "file_name"
   ]
  },
  {
   "cell_type": "code",
   "execution_count": 3,
   "metadata": {},
   "outputs": [],
   "source": [
    "def line_numbers(file_path, word_list):\n",
    "\n",
    "    with open(file_path, 'r', encoding='ISO-8859-1') as f:\n",
    "        \n",
    "        results = {word:[] for word in word_list}\n",
    "        \n",
    "        for num, line in enumerate(f, start=1):\n",
    "            for word in word_list:\n",
    "                if word in line:\n",
    "                    results[word].append(num)\n",
    "            \n",
    "    return results"
   ]
  },
  {
   "cell_type": "code",
   "execution_count": 4,
   "metadata": {},
   "outputs": [
    {
     "data": {
      "text/plain": [
       "'\\nfile_name,not,nop,shl,jae,neg,jpe,rcr,sal,rol,jna,push,jc,jge,jnp,cwde,jnbe,js,inc,imul,jecxz,clc,cld,jno,idiv,pusha,ja,in,jg,cbw,int,xchg,xor,add,ror,jns,jnge,pop,jo,jne,sti,adc,lea,jpo,andor,jnae,cli,pushf,sbb,sub,jle,mov,jmp,jng,sar,div,jz,std,mul,jb,ret,jnb,jnl,cmc,rcl,dec,cwd,out,jnle,jp,shr,jcxz,jnc,jbe,stc,jl,popa,jnz,je,call,cmp,popf\\n01.asm,2,0,28,0,0,0,0,1,30,0,638,0,0,0,2,0,0,41,18,0,0,0,0,0,0,2,151,1,0,22,2,62,184,38,0,0,98,0,0,10,0,82,0,0,0,0,0,5,323,1,712,0,0,0,0,15,96,18,7,20,2,0,0,0,46,2,1,0,0,11,0,0,4,0,2,0,26,4,289,18,0\\n02.asm,3,0,32,0,0,0,0,0,38,0,340,0,0,0,0,0,0,50,14,0,1,0,0,0,0,5,135,0,0,25,3,44,214,29,0,0,118,0,0,0,1,61,0,0,0,1,0,5,406,1,675,1,0,0,0,20,98,14,8,29,4,0,0,0,45,0,6,0,1,13,0,0,4,0,2,0,27,1,193,20,0\\n04.asm,1,0,18,0,0,0,0,0,37,0,413,0,0,1,0,0,0,67,14,0,0,1,0,0,0,13,170,1,0,23,1,48,166,45,0,0,121,0,0,1,0,87,0,0,0,0,0,1,462,1,493,0,0,0,0,29,104,14,29,21,11,0,0,1,71,0,0,0,1,9,0,0,18,0,2,0,48,12,203,40,0\\n05.asm,2,1,31,0,1,0,0,0,27,0,405,0,1,0,0,0,1,52,24,0,2,0,0,0,1,0,199,3,2,59,5,58,217,21,1,0,119,1,0,3,2,80,0,0,0,1,0,3,447,0,792,0,0,0,0,19,263,24,0,35,0,0,0,0,35,0,8,0,0,27,0,0,0,0,0,0,13,6,370,23,1\\n06.asm,2,0,25,0,0,0,0,0,33,0,766,0,0,0,0,0,0,59,26,0,0,0,0,1,0,3,137,1,0,15,6,51,250,36,0,0,155,4,0,0,0,90,0,0,0,0,0,0,674,2,746,0,0,0,1,17,112,26,12,31,6,0,0,12,53,0,4,0,2,11,0,0,7,1,2,0,27,4,324,33,2\\n07.asm,1,0,29,0,2,0,0,0,26,0,339,0,2,0,0,0,0,43,19,0,0,0,2,0,0,5,62,2,0,1,4,45,173,41,0,0,101,0,0,0,0,71,0,0,0,1,0,2,337,1,663,0,0,0,0,15,24,19,10,27,0,0,3,0,48,0,0,0,0,16,0,0,5,0,2,0,20,0,118,22,1\\n08.asm,1,0,0,0,0,0,0,0,0,0,432,0,0,0,0,0,0,2,0,0,0,0,0,0,1,1,37,0,0,3,0,12,119,9,0,0,161,0,0,0,9,59,0,0,0,0,0,7,308,0,192,0,0,0,0,1,32,0,0,56,0,0,0,0,1,0,0,0,0,0,0,0,0,0,0,1,9,9,200,3,0\\n09.asm,1,1,0,0,0,0,0,0,0,0,465,0,0,0,0,0,0,4,0,0,0,0,0,0,1,1,38,0,0,6,1,132,134,9,0,0,299,0,0,0,7,69,0,0,0,0,0,5,706,0,201,119,0,0,0,3,33,0,6,63,0,0,0,0,1,0,0,0,0,0,0,0,3,0,0,0,7,1,335,11,0\\n'"
      ]
     },
     "execution_count": 4,
     "metadata": {},
     "output_type": "execute_result"
    }
   ],
   "source": [
    "# Write a function to output TF-IDF:\n",
    "\n",
    "'''\n",
    "file_name,not,nop,shl,jae,neg,jpe,rcr,sal,rol,jna,push,jc,jge,jnp,cwde,jnbe,js,inc,imul,jecxz,clc,cld,jno,idiv,pusha,ja,in,jg,cbw,int,xchg,xor,add,ror,jns,jnge,pop,jo,jne,sti,adc,lea,jpo,andor,jnae,cli,pushf,sbb,sub,jle,mov,jmp,jng,sar,div,jz,std,mul,jb,ret,jnb,jnl,cmc,rcl,dec,cwd,out,jnle,jp,shr,jcxz,jnc,jbe,stc,jl,popa,jnz,je,call,cmp,popf\n",
    "01.asm,2,0,28,0,0,0,0,1,30,0,638,0,0,0,2,0,0,41,18,0,0,0,0,0,0,2,151,1,0,22,2,62,184,38,0,0,98,0,0,10,0,82,0,0,0,0,0,5,323,1,712,0,0,0,0,15,96,18,7,20,2,0,0,0,46,2,1,0,0,11,0,0,4,0,2,0,26,4,289,18,0\n",
    "02.asm,3,0,32,0,0,0,0,0,38,0,340,0,0,0,0,0,0,50,14,0,1,0,0,0,0,5,135,0,0,25,3,44,214,29,0,0,118,0,0,0,1,61,0,0,0,1,0,5,406,1,675,1,0,0,0,20,98,14,8,29,4,0,0,0,45,0,6,0,1,13,0,0,4,0,2,0,27,1,193,20,0\n",
    "04.asm,1,0,18,0,0,0,0,0,37,0,413,0,0,1,0,0,0,67,14,0,0,1,0,0,0,13,170,1,0,23,1,48,166,45,0,0,121,0,0,1,0,87,0,0,0,0,0,1,462,1,493,0,0,0,0,29,104,14,29,21,11,0,0,1,71,0,0,0,1,9,0,0,18,0,2,0,48,12,203,40,0\n",
    "05.asm,2,1,31,0,1,0,0,0,27,0,405,0,1,0,0,0,1,52,24,0,2,0,0,0,1,0,199,3,2,59,5,58,217,21,1,0,119,1,0,3,2,80,0,0,0,1,0,3,447,0,792,0,0,0,0,19,263,24,0,35,0,0,0,0,35,0,8,0,0,27,0,0,0,0,0,0,13,6,370,23,1\n",
    "06.asm,2,0,25,0,0,0,0,0,33,0,766,0,0,0,0,0,0,59,26,0,0,0,0,1,0,3,137,1,0,15,6,51,250,36,0,0,155,4,0,0,0,90,0,0,0,0,0,0,674,2,746,0,0,0,1,17,112,26,12,31,6,0,0,12,53,0,4,0,2,11,0,0,7,1,2,0,27,4,324,33,2\n",
    "07.asm,1,0,29,0,2,0,0,0,26,0,339,0,2,0,0,0,0,43,19,0,0,0,2,0,0,5,62,2,0,1,4,45,173,41,0,0,101,0,0,0,0,71,0,0,0,1,0,2,337,1,663,0,0,0,0,15,24,19,10,27,0,0,3,0,48,0,0,0,0,16,0,0,5,0,2,0,20,0,118,22,1\n",
    "08.asm,1,0,0,0,0,0,0,0,0,0,432,0,0,0,0,0,0,2,0,0,0,0,0,0,1,1,37,0,0,3,0,12,119,9,0,0,161,0,0,0,9,59,0,0,0,0,0,7,308,0,192,0,0,0,0,1,32,0,0,56,0,0,0,0,1,0,0,0,0,0,0,0,0,0,0,1,9,9,200,3,0\n",
    "09.asm,1,1,0,0,0,0,0,0,0,0,465,0,0,0,0,0,0,4,0,0,0,0,0,0,1,1,38,0,0,6,1,132,134,9,0,0,299,0,0,0,7,69,0,0,0,0,0,5,706,0,201,119,0,0,0,3,33,0,6,63,0,0,0,0,1,0,0,0,0,0,0,0,3,0,0,0,7,1,335,11,0\n",
    "'''"
   ]
  },
  {
   "cell_type": "code",
   "execution_count": 5,
   "metadata": {},
   "outputs": [],
   "source": [
    "# Soulution (Tutor's code)\n",
    "with open('output.csv','w') as f:\n",
    "    w = csv.writer(f)\n",
    " \n",
    "    key_list = list(keywords)\n",
    "    key_list.insert(0,'file_name')\n",
    "    w.writerow(key_list)\n",
    " \n",
    "    for f in file_name:\n",
    "        result = line_numbers(file_dir + f, keywords)    \n",
    "        val_list = []\n",
    "        val_list.append(f)\n",
    "        for val in result.values():\n",
    "            val_list.append(len(val))    \n",
    "        w.writerow(val_list)"
   ]
  },
  {
   "cell_type": "code",
   "execution_count": 6,
   "metadata": {},
   "outputs": [
    {
     "name": "stdout",
     "output_type": "stream",
     "text": [
      "      tfidf\n",
      "not     1.0\n",
      "adc     0.0\n",
      "jnle    0.0\n",
      "pop     0.0\n",
      "out     0.0\n",
      "nop     0.0\n",
      "neg     0.0\n",
      "mul     0.0\n",
      "mov     0.0\n",
      "lea     0.0\n"
     ]
    }
   ],
   "source": [
    "# show the result with TfidfVectorizer \n",
    "\n",
    "from sklearn.feature_extraction.text import TfidfVectorizer\n",
    "import pandas as pd\n",
    "tfifv=TfidfVectorizer(use_idf=True)\n",
    "tfifv_vector=tfifv.fit_transform(keywords)\n",
    "first_vector=tfifv_vector[0]\n",
    "df=pd.DataFrame(first_vector.T.todense(),\n",
    "               index=tfifv.get_feature_names(),columns=[\"tfidf\"])\n",
    "df=df.sort_values(by=[\"tfidf\"],ascending=False)\n",
    "print(df.head(10))"
   ]
  },
  {
   "cell_type": "code",
   "execution_count": 7,
   "metadata": {},
   "outputs": [
    {
     "data": {
      "text/plain": [
       "'\\nTF-IDF(Term Frequency-Inverse Document Frequency): \\nWords that appear frequently in all documents are of low importance; words that appear frequently only in certain documents are of high importance.\\nIf TF-IDF value is low, importance is low, and if it is big, importance is high.\\n\\nTfidfVectorizer\\na BOW vector that weights words is created with a TF-IDF technique.\\n\\n- Reference -\\nBlog.naver.com. 2021. [NLP]Cosine Similarity. [online] Available at: <https://blog.naver.com/lightsalt28/221800507154>.\\n'"
      ]
     },
     "execution_count": 7,
     "metadata": {},
     "output_type": "execute_result"
    }
   ],
   "source": [
    "\"\"\"\n",
    "TF-IDF(Term Frequency-Inverse Document Frequency): \n",
    "Words that appear frequently in all documents are of low importance; words that appear frequently only in certain documents are of high importance.\n",
    "If TF-IDF value is low, importance is low, and if it is big, importance is high.\n",
    "\n",
    "TfidfVectorizer\n",
    "a BOW vector that weights words is created with a TF-IDF technique.\n",
    "\n",
    "- Reference -\n",
    "Blog.naver.com. 2021. [NLP]Cosine Similarity. [online] Available at: <https://blog.naver.com/lightsalt28/221800507154>.\n",
    "\"\"\""
   ]
  },
  {
   "cell_type": "code",
   "execution_count": null,
   "metadata": {},
   "outputs": [],
   "source": []
  }
 ],
 "metadata": {
  "kernelspec": {
   "display_name": "Python 3",
   "language": "python",
   "name": "python3"
  },
  "language_info": {
   "codemirror_mode": {
    "name": "ipython",
    "version": 3
   },
   "file_extension": ".py",
   "mimetype": "text/x-python",
   "name": "python",
   "nbconvert_exporter": "python",
   "pygments_lexer": "ipython3",
   "version": "3.8.5"
  }
 },
 "nbformat": 4,
 "nbformat_minor": 4
}
