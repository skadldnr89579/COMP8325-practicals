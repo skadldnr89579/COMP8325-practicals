{
 "cells": [
  {
   "cell_type": "markdown",
   "metadata": {},
   "source": [
    "# Differentially Private Machine Learning\n",
    "* ## Demo for differentially private Naive Bayes classifier\n",
    "* ## Task: differentially private K-means"
   ]
  },
  {
   "cell_type": "markdown",
   "metadata": {},
   "source": [
    "### You need to install the IBM Differential Privacy Library \n",
    "The IBM Differential Privacy Library is a general-purpose library for experimenting, investigating and developing applications in differential privacy.\n",
    "\n",
    "* #### Installation with pip\n",
    "\n",
    "The library is designed to run with Python 3. The library can be installed from the PyPi repository using pip (or pip3):\n",
    "\n",
    "pip install diffprivlib\n",
    "\n",
    "\n",
    "\n",
    "* #### Manual installation\n",
    "\n",
    "For the most recent version of the library, either download the source code or clone the repository in your directory of choice:\n",
    "\n",
    "git clone https://github.com/IBM/differential-privacy-library\n",
    "\n",
    "To install diffprivlib, do the following in the project folder (alternatively, you can run python3 -m pip install .):\n",
    "\n",
    "\n",
    "pip install ."
   ]
  },
  {
   "cell_type": "code",
   "execution_count": 2,
   "metadata": {},
   "outputs": [],
   "source": [
    "import math\n",
    "import numpy as np\n",
    "import pandas as pd\n",
    "from matplotlib import pyplot as plt\n",
    "\n",
    "# Import the differential private library\n",
    "import diffprivlib.models as dp\n",
    "\n",
    "from sklearn.model_selection import train_test_split\n",
    "from sklearn.metrics import accuracy_score\n",
    "\n",
    "from sklearn.naive_bayes import GaussianNB"
   ]
  },
  {
   "cell_type": "code",
   "execution_count": 3,
   "metadata": {},
   "outputs": [
    {
     "name": "stdout",
     "output_type": "stream",
     "text": [
      "data size: (32561, 6)\n"
     ]
    },
    {
     "data": {
      "text/html": [
       "<div>\n",
       "<style scoped>\n",
       "    .dataframe tbody tr th:only-of-type {\n",
       "        vertical-align: middle;\n",
       "    }\n",
       "\n",
       "    .dataframe tbody tr th {\n",
       "        vertical-align: top;\n",
       "    }\n",
       "\n",
       "    .dataframe thead th {\n",
       "        text-align: right;\n",
       "    }\n",
       "</style>\n",
       "<table border=\"1\" class=\"dataframe\">\n",
       "  <thead>\n",
       "    <tr style=\"text-align: right;\">\n",
       "      <th></th>\n",
       "      <th>Age</th>\n",
       "      <th>Education Number</th>\n",
       "      <th>Capital Gain</th>\n",
       "      <th>Capital Loss</th>\n",
       "      <th>Hours per Week</th>\n",
       "      <th>Income</th>\n",
       "    </tr>\n",
       "  </thead>\n",
       "  <tbody>\n",
       "    <tr>\n",
       "      <th>0</th>\n",
       "      <td>39</td>\n",
       "      <td>13</td>\n",
       "      <td>2174</td>\n",
       "      <td>0</td>\n",
       "      <td>40</td>\n",
       "      <td>&lt;=50K</td>\n",
       "    </tr>\n",
       "    <tr>\n",
       "      <th>1</th>\n",
       "      <td>50</td>\n",
       "      <td>13</td>\n",
       "      <td>0</td>\n",
       "      <td>0</td>\n",
       "      <td>13</td>\n",
       "      <td>&lt;=50K</td>\n",
       "    </tr>\n",
       "    <tr>\n",
       "      <th>2</th>\n",
       "      <td>38</td>\n",
       "      <td>9</td>\n",
       "      <td>0</td>\n",
       "      <td>0</td>\n",
       "      <td>40</td>\n",
       "      <td>&lt;=50K</td>\n",
       "    </tr>\n",
       "    <tr>\n",
       "      <th>3</th>\n",
       "      <td>53</td>\n",
       "      <td>7</td>\n",
       "      <td>0</td>\n",
       "      <td>0</td>\n",
       "      <td>40</td>\n",
       "      <td>&lt;=50K</td>\n",
       "    </tr>\n",
       "    <tr>\n",
       "      <th>4</th>\n",
       "      <td>28</td>\n",
       "      <td>13</td>\n",
       "      <td>0</td>\n",
       "      <td>0</td>\n",
       "      <td>40</td>\n",
       "      <td>&lt;=50K</td>\n",
       "    </tr>\n",
       "  </tbody>\n",
       "</table>\n",
       "</div>"
      ],
      "text/plain": [
       "   Age  Education Number  Capital Gain  Capital Loss  Hours per Week Income\n",
       "0   39                13          2174             0              40  <=50K\n",
       "1   50                13             0             0              13  <=50K\n",
       "2   38                 9             0             0              40  <=50K\n",
       "3   53                 7             0             0              40  <=50K\n",
       "4   28                13             0             0              40  <=50K"
      ]
     },
     "execution_count": 3,
     "metadata": {},
     "output_type": "execute_result"
    }
   ],
   "source": [
    "# Load the 'income' dataset. As this data set is related to personal information, we think data analysis directly on the dataset will cause privacy issues.\n",
    "raw_data = pd.read_csv(\"data/income.csv\")\n",
    "print(\"data size: \"+str(raw_data.shape))\n",
    "raw_data.head()"
   ]
  },
  {
   "cell_type": "code",
   "execution_count": 4,
   "metadata": {},
   "outputs": [],
   "source": [
    "# Specifying features and target attribute\n",
    "X = raw_data.drop(['Income'], axis='columns').values\n",
    "y = raw_data['Income'].values\n",
    "\n",
    "# Pre-processing with standardization\n",
    "from sklearn import preprocessing\n",
    "scaler = preprocessing.MinMaxScaler()\n",
    "X_scaled = scaler.fit_transform(X)\n",
    "X = X_scaled\n",
    "\n",
    "# Question: Given that the preprocessing transform the data, will it protect the privacy? \n",
    "\"\"\"\n",
    "The privacy is occurred before the dataset is established.\n",
    "Consent is required in advance to be used as a relevant dataset, and privacy is leaked (and of course, not a priority), so that information does not create data that can accurately identify a particular person.\n",
    "Sensitive data also goes through the encryption phase before being stored as a dataset, which is not a big problem.\n",
    "\n",
    "In conclusion, the preprocessing transform the data protects the privacy by encryption.\n",
    "\"\"\""
   ]
  },
  {
   "cell_type": "markdown",
   "metadata": {},
   "source": [
    "## Naive Bayes with no privacy\n",
    "To begin, let's first train a regular (non-private) naive Bayes classifier, and test its accuracy."
   ]
  },
  {
   "cell_type": "code",
   "execution_count": 5,
   "metadata": {},
   "outputs": [],
   "source": [
    "# Split data into training and testing datasets\n",
    "X_train, X_test, y_train, y_test = train_test_split(X, y, test_size=0.20)"
   ]
  },
  {
   "cell_type": "code",
   "execution_count": 6,
   "metadata": {},
   "outputs": [
    {
     "name": "stdout",
     "output_type": "stream",
     "text": [
      "Non-private test accuracy: 79.76%\n"
     ]
    }
   ],
   "source": [
    "# Train a model\n",
    "nonprivate_clf = GaussianNB()\n",
    "nonprivate_clf.fit(X_train, y_train)\n",
    "\n",
    "print(\"Non-private test accuracy: %.2f%%\" % \n",
    "     (accuracy_score(y_test, nonprivate_clf.predict(X_test)) * 100))\n",
    "\n",
    "# Note: If you built the model and do the testing again, the result will be the same.\n",
    "# The NBC model is based on probability model (probabilistic ML model), but the algorithm is deterministic."
   ]
  },
  {
   "cell_type": "markdown",
   "metadata": {},
   "source": [
    "## Differentially private naive Bayes classification\n",
    "Using the models.GaussianNB module of diffprivlib, we can train a naive Bayes classifier while satisfying differential privacy.\n",
    "If we don't specify any parameters, the model defaults to epsilon = 1 and selects the model's feature bounds from the data. This throws a warning with .fit() is first called, as it leaks additional privacy. To ensure no additional privacy loss, we should specify the bounds as an argument, and choose the bounds indepedently of the data (i.e. using domain knowledge).\n",
    "\n",
    "Questions: what kind of basic statistic compuing operations are used in Guassian NBC? What are the sensitivities of the operations?"
   ]
  },
  {
   "cell_type": "code",
   "execution_count": 7,
   "metadata": {},
   "outputs": [
    {
     "name": "stdout",
     "output_type": "stream",
     "text": [
      "Differentially private test accuracy (epsilon=1.00): 80.36%\n"
     ]
    }
   ],
   "source": [
    "# Train a differentially private version of NBC\n",
    "stardardized_bounds = (0, 1) \n",
    "\n",
    "dp_clf = dp.GaussianNB(epsilon = 1, bounds=stardardized_bounds)\n",
    "\n",
    "dp_clf.fit(X_train, y_train)\n",
    "\n",
    "print(\"Differentially private test accuracy (epsilon=%.2f): %.2f%%\" %\n",
    "      (dp_clf.epsilon, accuracy_score(y_test, dp_clf.predict(X_test)) * 100))\n",
    "\n",
    "# Note: If you built the model and do the testing again, the result will be different. \n",
    "# As we pointed in our lecture, the algorithm has been randomized."
   ]
  },
  {
   "cell_type": "code",
   "execution_count": 8,
   "metadata": {},
   "outputs": [
    {
     "name": "stdout",
     "output_type": "stream",
     "text": [
      "Differentially private test accuracy (epsilon=0.10): 76.35%\n"
     ]
    }
   ],
   "source": [
    "# Try a different epsilon value epsilon=0.1 (stronger privayc preservation)\n",
    "dp_clf = dp.GaussianNB(epsilon = 0.1, bounds=stardardized_bounds)\n",
    "\n",
    "dp_clf.fit(X_train, y_train)\n",
    "\n",
    "print(\"Differentially private test accuracy (epsilon=%.2f): %.2f%%\" % \n",
    "      (dp_clf.epsilon, accuracy_score(y_test, dp_clf.predict(X_test)) * 100))"
   ]
  },
  {
   "cell_type": "code",
   "execution_count": 9,
   "metadata": {},
   "outputs": [
    {
     "name": "stdout",
     "output_type": "stream",
     "text": [
      "Differentially private test accuracy (epsilon=0.00): 75.89%\n"
     ]
    }
   ],
   "source": [
    "# Try the extreme values like 0.0000001 (very strong privacy preservation), and inf (no privacy preservation)\n",
    "dp_clf = dp.GaussianNB(epsilon = 0.0000001, bounds=stardardized_bounds)\n",
    "#dp_clf = dp.GaussianNB(epsilon=float(\"inf\"), bounds=stardardized_bounds)\n",
    "\n",
    "dp_clf.fit(X_train, y_train)\n",
    "\n",
    "print(\"Differentially private test accuracy (epsilon=%.2f): %.2f%%\" % \n",
    "      (dp_clf.epsilon, accuracy_score(y_test, dp_clf.predict(X_test)) * 100))"
   ]
  },
  {
   "cell_type": "markdown",
   "metadata": {},
   "source": [
    "## Investigate how epsilon affects prediction performance\n",
    "We will visualize the relationship between epsilon and accuracy."
   ]
  },
  {
   "cell_type": "code",
   "execution_count": 10,
   "metadata": {},
   "outputs": [
    {
     "data": {
      "image/png": "[encoded data removed]",
      "text/plain": [
       "<Figure size 432x288 with 1 Axes>"
      ]
     },
     "metadata": {
      "needs_background": "light"
     },
     "output_type": "display_data"
    }
   ],
   "source": [
    "# For evaluation randomized algorithms, we need to run multiple execution, using the standard deviation to perceive the robustness of the prediction\n",
    "accuracy_scores = []\n",
    "accuracy_scores_std = []\n",
    "\n",
    "epsilons = np.logspace(-4, 1, 20)\n",
    "\n",
    "for epsilon in epsilons:\n",
    "    # Multiple runs for stable indicators for randomized algorithms\n",
    "    accuracy_scores_tmp = []\n",
    "    \n",
    "    n_iteration=10\n",
    "    for j in range(0, n_iteration):\n",
    "        dp_clf = dp.GaussianNB(epsilon=epsilon, bounds=stardardized_bounds)\n",
    "        dp_clf.fit(X_train, y_train)\n",
    "        accuracy_scores_tmp.append(accuracy_score(y_test, dp_clf.predict(X_test)))\n",
    "    \n",
    "    accuracy_scores.append(np.mean(accuracy_scores_tmp))\n",
    "    accuracy_scores_std.append(np.std(accuracy_scores_tmp))\n",
    "\n",
    "# Plot the relationship between the classification accuracy and the privacy budget epsilon\n",
    "plt.errorbar(epsilons, accuracy_scores, yerr=accuracy_scores_std, marker='o')\n",
    "plt.xscale('log')\n",
    "plt.title('Differentially private Naive Bayes accuracy')\n",
    "plt.xlabel('Epsilon')\n",
    "plt.ylabel('Accuracy')\n",
    "plt.show()"
   ]
  },
  {
   "cell_type": "markdown",
   "metadata": {},
   "source": [
    "## Task: differentially private K-means\n",
    "You can refer to the configuration/implementation details for differentially private K-menas: https://github.com/IBM/differential-privacy-library/blob/master/diffprivlib/models/k_means.py"
   ]
  },
  {
   "cell_type": "code",
   "execution_count": 11,
   "metadata": {},
   "outputs": [
    {
     "data": {
      "image/png": "[encoded data removed]",
      "text/plain": [
       "<Figure size 432x288 with 1 Axes>"
      ]
     },
     "metadata": {
      "needs_background": "light"
     },
     "output_type": "display_data"
    }
   ],
   "source": [
    "# Task 6.1 Study how eplison affects the clustering performance via visualizing the relationship between epsilon and the cluster performance indicators we used in Prac-5.\n",
    "# You could fix value of K, e.g., 5, or 10\n",
    "from sklearn.metrics import davies_bouldin_score, adjusted_rand_score\n",
    "db_scores = []\n",
    "db_scores_std = []\n",
    "\n",
    "ar_scores=[]\n",
    "ar_scores_std=[]\n",
    "\n",
    "inertia = []\n",
    "inertia_std = []\n",
    "\n",
    "epsilons = np.logspace(-4, 1, 20)\n",
    "\n",
    "for i in epsilons: \n",
    "    db_scores_tmp = []\n",
    "    ar_scores_tmp = []\n",
    "    inertias_tmp = []\n",
    "    n_iteration=10\n",
    "    for j in range(0, n_iteration):\n",
    "        kmeans = dp.KMeans(epsilon = i, bounds=stardardized_bounds,n_clusters=5)\n",
    "        kmeans.fit(X)\n",
    "        y_pred = kmeans.predict(X_test)\n",
    "        labels = kmeans.labels_\n",
    "        db_scores_tmp.append(davies_bouldin_score(X, labels))\n",
    "        ar_scores_tmp.append(adjusted_rand_score(labels, y))\n",
    "        inertias_tmp.append(math.sqrt(kmeans.inertia_/X.shape[0]))\n",
    "        \n",
    "    db_scores.append(np.mean(db_scores_tmp))\n",
    "    db_scores_std.append(np.std(db_scores_tmp))\n",
    "    ar_scores.append(np.mean(ar_scores_tmp))\n",
    "    ar_scores_std.append(np.std(ar_scores_tmp))\n",
    "    inertia.append(np.mean(inertias_tmp))\n",
    "    inertia_std.append(np.std(inertias_tmp))\n",
    "\n",
    "# Plot the relationship between the clustering performance indicators and the privacy budget epsilon\n",
    "plt.errorbar(epsilons, db_scores, yerr=db_scores_std, marker='x', label='DB')\n",
    "plt.errorbar(epsilons, ar_scores, yerr=ar_scores_std, marker='o', label='AR')\n",
    "plt.errorbar(epsilons, inertia, yerr=inertia_std, marker='+', label='inertia')\n",
    "        \n",
    "plt.xscale('log')\n",
    "plt.title('Differentially private K-Means performance evaluation')\n",
    "plt.xlabel('Epsilon')\n",
    "plt.ylabel('Clustering performance score')\n",
    "plt.legend(loc='best')\n",
    "plt.show()\n"
   ]
  },
  {
   "cell_type": "code",
   "execution_count": null,
   "metadata": {},
   "outputs": [],
   "source": [
    "# Optional: visualize the orginal datasets (randomly/mannual/PCA selected two dimensions for visualization, showing how epsilon affects the clustering results)\n"
   ]
  }
 ],
 "metadata": {
  "kernelspec": {
   "display_name": "Python 3",
   "language": "python",
   "name": "python3"
  },
  "language_info": {
   "codemirror_mode": {
    "name": "ipython",
    "version": 3
   },
   "file_extension": ".py",
   "mimetype": "text/x-python",
   "name": "python",
   "nbconvert_exporter": "python",
   "pygments_lexer": "ipython3",
   "version": "3.8.5"
  }
 },
 "nbformat": 4,
 "nbformat_minor": 2
}
